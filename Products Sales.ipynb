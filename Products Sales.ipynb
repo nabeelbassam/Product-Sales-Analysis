{
 "cells": [
  {
   "cell_type": "markdown",
   "id": "f637dce8",
   "metadata": {
    "tags": []
   },
   "source": [
    "# Jupyter setup"
   ]
  },
  {
   "cell_type": "markdown",
   "id": "ae15584c",
   "metadata": {},
   "source": [
    "## Import all required libraries"
   ]
  },
  {
   "cell_type": "code",
   "execution_count": 41,
   "id": "96061711",
   "metadata": {},
   "outputs": [],
   "source": [
    "import pandas as pd\n",
    "import glob\n",
    "import numpy as np\n",
    "import matplotlib.pyplot as plt\n",
    "import seaborn as sns\n",
    "%matplotlib inline"
   ]
  },
  {
   "cell_type": "markdown",
   "id": "6c597203",
   "metadata": {},
   "source": [
    "## Reading the data files and combine all data as one dataframe."
   ]
  },
  {
   "cell_type": "code",
   "execution_count": 42,
   "id": "66eb990e",
   "metadata": {},
   "outputs": [],
   "source": [
    "files = glob.glob('Sales Data/*.csv')\n",
    "df = pd.concat([pd.read_csv(f) for f in files])"
   ]
  },
  {
   "cell_type": "code",
   "execution_count": 43,
   "id": "c53923dd",
   "metadata": {},
   "outputs": [
    {
     "data": {
      "text/html": [
       "<div>\n",
       "<style scoped>\n",
       "    .dataframe tbody tr th:only-of-type {\n",
       "        vertical-align: middle;\n",
       "    }\n",
       "\n",
       "    .dataframe tbody tr th {\n",
       "        vertical-align: top;\n",
       "    }\n",
       "\n",
       "    .dataframe thead th {\n",
       "        text-align: right;\n",
       "    }\n",
       "</style>\n",
       "<table border=\"1\" class=\"dataframe\">\n",
       "  <thead>\n",
       "    <tr style=\"text-align: right;\">\n",
       "      <th></th>\n",
       "      <th>Order ID</th>\n",
       "      <th>Product</th>\n",
       "      <th>Quantity Ordered</th>\n",
       "      <th>Price Each</th>\n",
       "      <th>Order Date</th>\n",
       "      <th>Purchase Address</th>\n",
       "    </tr>\n",
       "  </thead>\n",
       "  <tbody>\n",
       "    <tr>\n",
       "      <th>0</th>\n",
       "      <td>171654</td>\n",
       "      <td>USB-C Charging Cable</td>\n",
       "      <td>1</td>\n",
       "      <td>11.95</td>\n",
       "      <td>04/22/20 22:27</td>\n",
       "      <td>784 Pine St, Los Angeles, CA 90001</td>\n",
       "    </tr>\n",
       "    <tr>\n",
       "      <th>1</th>\n",
       "      <td>171655</td>\n",
       "      <td>Wired Headphones</td>\n",
       "      <td>2</td>\n",
       "      <td>11.99</td>\n",
       "      <td>04/02/20 15:14</td>\n",
       "      <td>513 North St, Boston, MA 02215</td>\n",
       "    </tr>\n",
       "    <tr>\n",
       "      <th>2</th>\n",
       "      <td>171656</td>\n",
       "      <td>Bose SoundSport Headphones</td>\n",
       "      <td>1</td>\n",
       "      <td>99.99</td>\n",
       "      <td>04/30/20 20:09</td>\n",
       "      <td>480 Maple St, Los Angeles, CA 90001</td>\n",
       "    </tr>\n",
       "    <tr>\n",
       "      <th>3</th>\n",
       "      <td>171657</td>\n",
       "      <td>Wired Headphones</td>\n",
       "      <td>1</td>\n",
       "      <td>11.99</td>\n",
       "      <td>04/05/20 00:23</td>\n",
       "      <td>5 Pine St, San Francisco, CA 94016</td>\n",
       "    </tr>\n",
       "    <tr>\n",
       "      <th>4</th>\n",
       "      <td>171658</td>\n",
       "      <td>AAA Batteries (4-pack)</td>\n",
       "      <td>2</td>\n",
       "      <td>2.99</td>\n",
       "      <td>04/07/20 10:36</td>\n",
       "      <td>95 Lake St, New York City, NY 10001</td>\n",
       "    </tr>\n",
       "    <tr>\n",
       "      <th>...</th>\n",
       "      <td>...</td>\n",
       "      <td>...</td>\n",
       "      <td>...</td>\n",
       "      <td>...</td>\n",
       "      <td>...</td>\n",
       "      <td>...</td>\n",
       "    </tr>\n",
       "    <tr>\n",
       "      <th>17116</th>\n",
       "      <td>250343</td>\n",
       "      <td>Wired Headphones</td>\n",
       "      <td>1</td>\n",
       "      <td>11.99</td>\n",
       "      <td>09/13/21 21:20</td>\n",
       "      <td>981 West St, San Francisco, CA 94016</td>\n",
       "    </tr>\n",
       "    <tr>\n",
       "      <th>17117</th>\n",
       "      <td>250344</td>\n",
       "      <td>Bose SoundSport Headphones</td>\n",
       "      <td>1</td>\n",
       "      <td>99.99</td>\n",
       "      <td>09/15/21 15:41</td>\n",
       "      <td>16 Highland St, Los Angeles, CA 90001</td>\n",
       "    </tr>\n",
       "    <tr>\n",
       "      <th>17118</th>\n",
       "      <td>250345</td>\n",
       "      <td>AAA Batteries (4-pack)</td>\n",
       "      <td>3</td>\n",
       "      <td>2.99</td>\n",
       "      <td>09/15/21 17:13</td>\n",
       "      <td>630 South St, Los Angeles, CA 90001</td>\n",
       "    </tr>\n",
       "    <tr>\n",
       "      <th>17119</th>\n",
       "      <td>250346</td>\n",
       "      <td>Wired Headphones</td>\n",
       "      <td>1</td>\n",
       "      <td>11.99</td>\n",
       "      <td>09/25/21 08:15</td>\n",
       "      <td>626 Adams St, San Francisco, CA 94016</td>\n",
       "    </tr>\n",
       "    <tr>\n",
       "      <th>17120</th>\n",
       "      <td>250347</td>\n",
       "      <td>Bose SoundSport Headphones</td>\n",
       "      <td>1</td>\n",
       "      <td>99.99</td>\n",
       "      <td>09/01/21 20:17</td>\n",
       "      <td>269 Jefferson St, Boston, MA 02215</td>\n",
       "    </tr>\n",
       "  </tbody>\n",
       "</table>\n",
       "<p>368935 rows × 6 columns</p>\n",
       "</div>"
      ],
      "text/plain": [
       "      Order ID                     Product Quantity Ordered Price Each  \\\n",
       "0       171654        USB-C Charging Cable                1      11.95   \n",
       "1       171655            Wired Headphones                2      11.99   \n",
       "2       171656  Bose SoundSport Headphones                1      99.99   \n",
       "3       171657            Wired Headphones                1      11.99   \n",
       "4       171658      AAA Batteries (4-pack)                2       2.99   \n",
       "...        ...                         ...              ...        ...   \n",
       "17116   250343            Wired Headphones                1      11.99   \n",
       "17117   250344  Bose SoundSport Headphones                1      99.99   \n",
       "17118   250345      AAA Batteries (4-pack)                3       2.99   \n",
       "17119   250346            Wired Headphones                1      11.99   \n",
       "17120   250347  Bose SoundSport Headphones                1      99.99   \n",
       "\n",
       "           Order Date                       Purchase Address  \n",
       "0      04/22/20 22:27     784 Pine St, Los Angeles, CA 90001  \n",
       "1      04/02/20 15:14         513 North St, Boston, MA 02215  \n",
       "2      04/30/20 20:09    480 Maple St, Los Angeles, CA 90001  \n",
       "3      04/05/20 00:23     5 Pine St, San Francisco, CA 94016  \n",
       "4      04/07/20 10:36    95 Lake St, New York City, NY 10001  \n",
       "...               ...                                    ...  \n",
       "17116  09/13/21 21:20   981 West St, San Francisco, CA 94016  \n",
       "17117  09/15/21 15:41  16 Highland St, Los Angeles, CA 90001  \n",
       "17118  09/15/21 17:13    630 South St, Los Angeles, CA 90001  \n",
       "17119  09/25/21 08:15  626 Adams St, San Francisco, CA 94016  \n",
       "17120  09/01/21 20:17     269 Jefferson St, Boston, MA 02215  \n",
       "\n",
       "[368935 rows x 6 columns]"
      ]
     },
     "metadata": {},
     "output_type": "display_data"
    }
   ],
   "source": [
    "display(df)"
   ]
  },
  {
   "cell_type": "markdown",
   "id": "1186119f",
   "metadata": {
    "tags": []
   },
   "source": [
    "# Exploratory data analysis(EDA)"
   ]
  },
  {
   "cell_type": "markdown",
   "id": "39d31f54",
   "metadata": {},
   "source": [
    "## initial descriptive analysis"
   ]
  },
  {
   "cell_type": "code",
   "execution_count": 44,
   "id": "9221bc54",
   "metadata": {},
   "outputs": [
    {
     "data": {
      "text/plain": [
       "(368935, 6)"
      ]
     },
     "execution_count": 44,
     "metadata": {},
     "output_type": "execute_result"
    }
   ],
   "source": [
    "df.shape"
   ]
  },
  {
   "cell_type": "code",
   "execution_count": 45,
   "id": "dc89c10e",
   "metadata": {},
   "outputs": [
    {
     "data": {
      "text/html": [
       "<div>\n",
       "<style scoped>\n",
       "    .dataframe tbody tr th:only-of-type {\n",
       "        vertical-align: middle;\n",
       "    }\n",
       "\n",
       "    .dataframe tbody tr th {\n",
       "        vertical-align: top;\n",
       "    }\n",
       "\n",
       "    .dataframe thead th {\n",
       "        text-align: right;\n",
       "    }\n",
       "</style>\n",
       "<table border=\"1\" class=\"dataframe\">\n",
       "  <thead>\n",
       "    <tr style=\"text-align: right;\">\n",
       "      <th></th>\n",
       "      <th>Order ID</th>\n",
       "      <th>Product</th>\n",
       "      <th>Quantity Ordered</th>\n",
       "      <th>Price Each</th>\n",
       "      <th>Order Date</th>\n",
       "      <th>Purchase Address</th>\n",
       "    </tr>\n",
       "  </thead>\n",
       "  <tbody>\n",
       "    <tr>\n",
       "      <th>count</th>\n",
       "      <td>367857</td>\n",
       "      <td>367857</td>\n",
       "      <td>367857</td>\n",
       "      <td>367857</td>\n",
       "      <td>367857</td>\n",
       "      <td>367857</td>\n",
       "    </tr>\n",
       "    <tr>\n",
       "      <th>unique</th>\n",
       "      <td>186979</td>\n",
       "      <td>20</td>\n",
       "      <td>10</td>\n",
       "      <td>24</td>\n",
       "      <td>278331</td>\n",
       "      <td>228276</td>\n",
       "    </tr>\n",
       "    <tr>\n",
       "      <th>top</th>\n",
       "      <td>Order ID</td>\n",
       "      <td>USB-C Charging Cable</td>\n",
       "      <td>1</td>\n",
       "      <td>11.95</td>\n",
       "      <td>Order Date</td>\n",
       "      <td>Purchase Address</td>\n",
       "    </tr>\n",
       "    <tr>\n",
       "      <th>freq</th>\n",
       "      <td>647</td>\n",
       "      <td>43399</td>\n",
       "      <td>332301</td>\n",
       "      <td>43399</td>\n",
       "      <td>647</td>\n",
       "      <td>647</td>\n",
       "    </tr>\n",
       "  </tbody>\n",
       "</table>\n",
       "</div>"
      ],
      "text/plain": [
       "        Order ID               Product Quantity Ordered Price Each  \\\n",
       "count     367857                367857           367857     367857   \n",
       "unique    186979                    20               10         24   \n",
       "top     Order ID  USB-C Charging Cable                1      11.95   \n",
       "freq         647                 43399           332301      43399   \n",
       "\n",
       "        Order Date  Purchase Address  \n",
       "count       367857            367857  \n",
       "unique      278331            228276  \n",
       "top     Order Date  Purchase Address  \n",
       "freq           647               647  "
      ]
     },
     "execution_count": 45,
     "metadata": {},
     "output_type": "execute_result"
    }
   ],
   "source": [
    "df.describe()"
   ]
  },
  {
   "cell_type": "code",
   "execution_count": 46,
   "id": "92c4b6e8",
   "metadata": {},
   "outputs": [
    {
     "name": "stdout",
     "output_type": "stream",
     "text": [
      "<class 'pandas.core.frame.DataFrame'>\n",
      "Int64Index: 368935 entries, 0 to 17120\n",
      "Data columns (total 6 columns):\n",
      " #   Column            Non-Null Count   Dtype \n",
      "---  ------            --------------   ----- \n",
      " 0   Order ID          367857 non-null  object\n",
      " 1   Product           367857 non-null  object\n",
      " 2   Quantity Ordered  367857 non-null  object\n",
      " 3   Price Each        367857 non-null  object\n",
      " 4   Order Date        367857 non-null  object\n",
      " 5   Purchase Address  367857 non-null  object\n",
      "dtypes: object(6)\n",
      "memory usage: 19.7+ MB\n"
     ]
    }
   ],
   "source": [
    "df.info()"
   ]
  },
  {
   "cell_type": "markdown",
   "id": "c851578c",
   "metadata": {},
   "source": [
    "### more depth descriptive analysis "
   ]
  },
  {
   "cell_type": "code",
   "execution_count": 47,
   "id": "783a6298",
   "metadata": {},
   "outputs": [],
   "source": [
    "# we can use pandas_profiling for in depth analysis and validation, It will increase the size of the ipynb file\n",
    "\n",
    "# from pandas_profiling import ProfileReport\n",
    "# profile = ProfileReport(df)\n",
    "# profile"
   ]
  },
  {
   "cell_type": "markdown",
   "id": "f1a6334d",
   "metadata": {},
   "source": [
    "### Fixing some issues"
   ]
  },
  {
   "cell_type": "code",
   "execution_count": 48,
   "id": "9f0f0fde",
   "metadata": {},
   "outputs": [],
   "source": [
    "#handling nulls in the order date column, if we keep nulls it will give us an error when we will convert it to datetime\n",
    "df['Order Date'].replace('Order Date', np.nan, inplace=True)"
   ]
  },
  {
   "cell_type": "code",
   "execution_count": 49,
   "id": "6b1601f7",
   "metadata": {},
   "outputs": [],
   "source": [
    "# Price Each should be a float type column, but in the data is show as a object, we should convert it to numric column because we will add some future features, and we need to multiply this two column\n",
    "# all the non numeric nulls will replace as a NaN, we will handle it later\n",
    "df['Price Each'] = pd.to_numeric(df['Price Each'], errors = 'coerce')"
   ]
  },
  {
   "cell_type": "code",
   "execution_count": 50,
   "id": "60905be7",
   "metadata": {},
   "outputs": [],
   "source": [
    "# Quantity Ordered should be a numeric(int) type column, but in the data it's show as an object, we should convert it to numric column because we will add some future features, and we need to multiply this two column\n",
    "# all the non numeric nulls will replace as a NaN, we will handle it later\n",
    "df['Quantity Ordered'] = pd.to_numeric(df['Quantity Ordered'], errors = 'coerce')"
   ]
  },
  {
   "cell_type": "markdown",
   "id": "ccd0984d",
   "metadata": {
    "tags": []
   },
   "source": [
    "# Data Validation"
   ]
  },
  {
   "cell_type": "code",
   "execution_count": 51,
   "id": "29b31458",
   "metadata": {},
   "outputs": [
    {
     "data": {
      "text/plain": [
       "array(['USB-C Charging Cable', 'Wired Headphones',\n",
       "       'Bose SoundSport Headphones', 'AAA Batteries (4-pack)',\n",
       "       '20in Monitor', 'iPhone', 'Macbook Pro Laptop',\n",
       "       'Apple Airpods Headphones', '34in Ultrawide Monitor',\n",
       "       'AA Batteries (4-pack)', 'Lightning Charging Cable', 'Product',\n",
       "       'ThinkPad Laptop', 'Flatscreen TV', 'Google Phone',\n",
       "       '27in 4K Gaming Monitor', 'LG Dryer', '27in FHD Monitor',\n",
       "       'Vareebadd Phone', nan, 'LG Washing Machine'], dtype=object)"
      ]
     },
     "execution_count": 51,
     "metadata": {},
     "output_type": "execute_result"
    }
   ],
   "source": [
    "# check the unique products in our dataset\n",
    "df[\"Product\"].unique()"
   ]
  },
  {
   "cell_type": "code",
   "execution_count": 52,
   "id": "149d5ada",
   "metadata": {},
   "outputs": [
    {
     "name": "stdout",
     "output_type": "stream",
     "text": [
      "lowest product price : 2.99\n",
      "highest product price : 1700.0\n"
     ]
    }
   ],
   "source": [
    "# validate the low and high price(checking if there is any outliers)\n",
    "print(\"lowest product price :\",df[\"Price Each\"].min())\n",
    "print(\"highest product price :\",df[\"Price Each\"].max())"
   ]
  },
  {
   "cell_type": "code",
   "execution_count": 53,
   "id": "4617962b",
   "metadata": {},
   "outputs": [
    {
     "data": {
      "text/plain": [
       "Order ID            1078\n",
       "Product             1078\n",
       "Quantity Ordered    1725\n",
       "Price Each          1725\n",
       "Order Date          1725\n",
       "Purchase Address    1078\n",
       "dtype: int64"
      ]
     },
     "execution_count": 53,
     "metadata": {},
     "output_type": "execute_result"
    }
   ],
   "source": [
    "# check all the missing values\n",
    "df.isna().sum()"
   ]
  },
  {
   "cell_type": "code",
   "execution_count": 54,
   "id": "3fa2f58c",
   "metadata": {},
   "outputs": [
    {
     "data": {
      "text/html": [
       "<div>\n",
       "<style scoped>\n",
       "    .dataframe tbody tr th:only-of-type {\n",
       "        vertical-align: middle;\n",
       "    }\n",
       "\n",
       "    .dataframe tbody tr th {\n",
       "        vertical-align: top;\n",
       "    }\n",
       "\n",
       "    .dataframe thead th {\n",
       "        text-align: right;\n",
       "    }\n",
       "</style>\n",
       "<table border=\"1\" class=\"dataframe\">\n",
       "  <thead>\n",
       "    <tr style=\"text-align: right;\">\n",
       "      <th></th>\n",
       "      <th>Order ID</th>\n",
       "      <th>Product</th>\n",
       "      <th>Quantity Ordered</th>\n",
       "      <th>Price Each</th>\n",
       "      <th>Order Date</th>\n",
       "      <th>Purchase Address</th>\n",
       "    </tr>\n",
       "  </thead>\n",
       "  <tbody>\n",
       "    <tr>\n",
       "      <th>254</th>\n",
       "      <td>NaN</td>\n",
       "      <td>NaN</td>\n",
       "      <td>NaN</td>\n",
       "      <td>NaN</td>\n",
       "      <td>NaN</td>\n",
       "      <td>NaN</td>\n",
       "    </tr>\n",
       "    <tr>\n",
       "      <th>665</th>\n",
       "      <td>NaN</td>\n",
       "      <td>NaN</td>\n",
       "      <td>NaN</td>\n",
       "      <td>NaN</td>\n",
       "      <td>NaN</td>\n",
       "      <td>NaN</td>\n",
       "    </tr>\n",
       "    <tr>\n",
       "      <th>832</th>\n",
       "      <td>NaN</td>\n",
       "      <td>NaN</td>\n",
       "      <td>NaN</td>\n",
       "      <td>NaN</td>\n",
       "      <td>NaN</td>\n",
       "      <td>NaN</td>\n",
       "    </tr>\n",
       "    <tr>\n",
       "      <th>1267</th>\n",
       "      <td>NaN</td>\n",
       "      <td>NaN</td>\n",
       "      <td>NaN</td>\n",
       "      <td>NaN</td>\n",
       "      <td>NaN</td>\n",
       "      <td>NaN</td>\n",
       "    </tr>\n",
       "    <tr>\n",
       "      <th>1298</th>\n",
       "      <td>NaN</td>\n",
       "      <td>NaN</td>\n",
       "      <td>NaN</td>\n",
       "      <td>NaN</td>\n",
       "      <td>NaN</td>\n",
       "      <td>NaN</td>\n",
       "    </tr>\n",
       "    <tr>\n",
       "      <th>...</th>\n",
       "      <td>...</td>\n",
       "      <td>...</td>\n",
       "      <td>...</td>\n",
       "      <td>...</td>\n",
       "      <td>...</td>\n",
       "      <td>...</td>\n",
       "    </tr>\n",
       "    <tr>\n",
       "      <th>14236</th>\n",
       "      <td>NaN</td>\n",
       "      <td>NaN</td>\n",
       "      <td>NaN</td>\n",
       "      <td>NaN</td>\n",
       "      <td>NaN</td>\n",
       "      <td>NaN</td>\n",
       "    </tr>\n",
       "    <tr>\n",
       "      <th>14303</th>\n",
       "      <td>NaN</td>\n",
       "      <td>NaN</td>\n",
       "      <td>NaN</td>\n",
       "      <td>NaN</td>\n",
       "      <td>NaN</td>\n",
       "      <td>NaN</td>\n",
       "    </tr>\n",
       "    <tr>\n",
       "      <th>14369</th>\n",
       "      <td>NaN</td>\n",
       "      <td>NaN</td>\n",
       "      <td>NaN</td>\n",
       "      <td>NaN</td>\n",
       "      <td>NaN</td>\n",
       "      <td>NaN</td>\n",
       "    </tr>\n",
       "    <tr>\n",
       "      <th>15749</th>\n",
       "      <td>NaN</td>\n",
       "      <td>NaN</td>\n",
       "      <td>NaN</td>\n",
       "      <td>NaN</td>\n",
       "      <td>NaN</td>\n",
       "      <td>NaN</td>\n",
       "    </tr>\n",
       "    <tr>\n",
       "      <th>16786</th>\n",
       "      <td>NaN</td>\n",
       "      <td>NaN</td>\n",
       "      <td>NaN</td>\n",
       "      <td>NaN</td>\n",
       "      <td>NaN</td>\n",
       "      <td>NaN</td>\n",
       "    </tr>\n",
       "  </tbody>\n",
       "</table>\n",
       "<p>1078 rows × 6 columns</p>\n",
       "</div>"
      ],
      "text/plain": [
       "      Order ID Product  Quantity Ordered  Price Each Order Date  \\\n",
       "254        NaN     NaN               NaN         NaN        NaN   \n",
       "665        NaN     NaN               NaN         NaN        NaN   \n",
       "832        NaN     NaN               NaN         NaN        NaN   \n",
       "1267       NaN     NaN               NaN         NaN        NaN   \n",
       "1298       NaN     NaN               NaN         NaN        NaN   \n",
       "...        ...     ...               ...         ...        ...   \n",
       "14236      NaN     NaN               NaN         NaN        NaN   \n",
       "14303      NaN     NaN               NaN         NaN        NaN   \n",
       "14369      NaN     NaN               NaN         NaN        NaN   \n",
       "15749      NaN     NaN               NaN         NaN        NaN   \n",
       "16786      NaN     NaN               NaN         NaN        NaN   \n",
       "\n",
       "      Purchase Address  \n",
       "254                NaN  \n",
       "665                NaN  \n",
       "832                NaN  \n",
       "1267               NaN  \n",
       "1298               NaN  \n",
       "...                ...  \n",
       "14236              NaN  \n",
       "14303              NaN  \n",
       "14369              NaN  \n",
       "15749              NaN  \n",
       "16786              NaN  \n",
       "\n",
       "[1078 rows x 6 columns]"
      ]
     },
     "execution_count": 54,
     "metadata": {},
     "output_type": "execute_result"
    }
   ],
   "source": [
    "# check the Null IDs\n",
    "df[df[\"Order ID\"].isna()]"
   ]
  },
  {
   "cell_type": "code",
   "execution_count": 55,
   "id": "80e4b3fe",
   "metadata": {},
   "outputs": [],
   "source": [
    "# dropping all the null values, bescause we have nulls in all the columns \n",
    "df.dropna(inplace=True)"
   ]
  },
  {
   "cell_type": "code",
   "execution_count": 56,
   "id": "76eb686c",
   "metadata": {},
   "outputs": [
    {
     "data": {
      "text/plain": [
       "Order ID            0\n",
       "Product             0\n",
       "Quantity Ordered    0\n",
       "Price Each          0\n",
       "Order Date          0\n",
       "Purchase Address    0\n",
       "dtype: int64"
      ]
     },
     "execution_count": 56,
     "metadata": {},
     "output_type": "execute_result"
    }
   ],
   "source": [
    "#rechecking nulls again\n",
    "df.isna().sum()"
   ]
  },
  {
   "cell_type": "code",
   "execution_count": 57,
   "id": "fde32321-2e6b-410c-808a-1d5de5b0506f",
   "metadata": {},
   "outputs": [
    {
     "data": {
      "text/html": [
       "<div>\n",
       "<style scoped>\n",
       "    .dataframe tbody tr th:only-of-type {\n",
       "        vertical-align: middle;\n",
       "    }\n",
       "\n",
       "    .dataframe tbody tr th {\n",
       "        vertical-align: top;\n",
       "    }\n",
       "\n",
       "    .dataframe thead th {\n",
       "        text-align: right;\n",
       "    }\n",
       "</style>\n",
       "<table border=\"1\" class=\"dataframe\">\n",
       "  <thead>\n",
       "    <tr style=\"text-align: right;\">\n",
       "      <th></th>\n",
       "      <th>Quantity Ordered</th>\n",
       "      <th>Price Each</th>\n",
       "    </tr>\n",
       "  </thead>\n",
       "  <tbody>\n",
       "    <tr>\n",
       "      <th>count</th>\n",
       "      <td>367210.000000</td>\n",
       "      <td>367210.000000</td>\n",
       "    </tr>\n",
       "    <tr>\n",
       "      <th>mean</th>\n",
       "      <td>1.126443</td>\n",
       "      <td>185.453902</td>\n",
       "    </tr>\n",
       "    <tr>\n",
       "      <th>std</th>\n",
       "      <td>0.446514</td>\n",
       "      <td>334.779398</td>\n",
       "    </tr>\n",
       "    <tr>\n",
       "      <th>min</th>\n",
       "      <td>1.000000</td>\n",
       "      <td>2.990000</td>\n",
       "    </tr>\n",
       "    <tr>\n",
       "      <th>25%</th>\n",
       "      <td>1.000000</td>\n",
       "      <td>11.950000</td>\n",
       "    </tr>\n",
       "    <tr>\n",
       "      <th>50%</th>\n",
       "      <td>1.000000</td>\n",
       "      <td>14.950000</td>\n",
       "    </tr>\n",
       "    <tr>\n",
       "      <th>75%</th>\n",
       "      <td>1.000000</td>\n",
       "      <td>150.000000</td>\n",
       "    </tr>\n",
       "    <tr>\n",
       "      <th>max</th>\n",
       "      <td>9.000000</td>\n",
       "      <td>1700.000000</td>\n",
       "    </tr>\n",
       "  </tbody>\n",
       "</table>\n",
       "</div>"
      ],
      "text/plain": [
       "       Quantity Ordered     Price Each\n",
       "count     367210.000000  367210.000000\n",
       "mean           1.126443     185.453902\n",
       "std            0.446514     334.779398\n",
       "min            1.000000       2.990000\n",
       "25%            1.000000      11.950000\n",
       "50%            1.000000      14.950000\n",
       "75%            1.000000     150.000000\n",
       "max            9.000000    1700.000000"
      ]
     },
     "execution_count": 57,
     "metadata": {},
     "output_type": "execute_result"
    }
   ],
   "source": [
    "# print the description of the data after preporcessing\n",
    "df.describe()"
   ]
  },
  {
   "cell_type": "markdown",
   "id": "2fa392aa",
   "metadata": {
    "tags": []
   },
   "source": [
    "# Feature engineering"
   ]
  },
  {
   "cell_type": "code",
   "execution_count": 58,
   "id": "0d26564b",
   "metadata": {},
   "outputs": [],
   "source": [
    "# Date related features\n",
    "# convert column to datatime\n",
    "df['Order Date'] = pd.to_datetime(df['Order Date'])\n",
    "# extract year, month, hour, day, hour, quarter, week, weekday  \n",
    "df['Order Year'] = df['Order Date'].dt.year\n",
    "df['Order Month'] = df['Order Date'].dt.month\n",
    "df[\"Order Day\"] = df['Order Date'].dt.day\n",
    "df['Order Hour'] = df['Order Date'].dt.hour\n",
    "df[\"Order Quarter\"] = df['Order Date'].dt.quarter\n",
    "df[\"Order Week\"] = df['Order Date'].dt.isocalendar().week\n",
    "df[\"Order Weekday\"] = df['Order Date'].dt.weekday"
   ]
  },
  {
   "cell_type": "code",
   "execution_count": 59,
   "id": "b26e4dcb",
   "metadata": {},
   "outputs": [],
   "source": [
    "# Sales related feature(calculate the total price by multplying the quantity ordered with the price for each product)\n",
    "df['Total Price'] = np.round(df['Quantity Ordered'].values.astype(int) * df['Price Each'].values, 3)"
   ]
  },
  {
   "cell_type": "code",
   "execution_count": 60,
   "id": "839ca417",
   "metadata": {},
   "outputs": [],
   "source": [
    "# we can separate the Purchase Address to street,state, ZIP Code columns\n",
    "# Address related features\n",
    "df['street'] = df['Purchase Address'].apply(lambda x: x.split(',')[0])\n",
    "df['State'] = df['Purchase Address'].apply(lambda x: x.split()[-2])\n",
    "df['ZIP Code'] = df['Purchase Address'].apply(lambda x: x.split()[-1])"
   ]
  },
  {
   "cell_type": "code",
   "execution_count": 61,
   "id": "e6413343-d2e3-4bc1-b32d-0cac6f9b9068",
   "metadata": {},
   "outputs": [
    {
     "data": {
      "text/plain": [
       "Order ID            0\n",
       "Product             0\n",
       "Quantity Ordered    0\n",
       "Price Each          0\n",
       "Order Date          0\n",
       "Purchase Address    0\n",
       "Order Year          0\n",
       "Order Month         0\n",
       "Order Day           0\n",
       "Order Hour          0\n",
       "Order Quarter       0\n",
       "Order Week          0\n",
       "Order Weekday       0\n",
       "Total Price         0\n",
       "street              0\n",
       "State               0\n",
       "ZIP Code            0\n",
       "dtype: int64"
      ]
     },
     "execution_count": 61,
     "metadata": {},
     "output_type": "execute_result"
    }
   ],
   "source": [
    "# recheck if there any null value appear after we added some features\n",
    "df.isna().sum()"
   ]
  },
  {
   "cell_type": "code",
   "execution_count": 62,
   "id": "b8ab71f5-55d9-49ed-8ecb-d0f55437e998",
   "metadata": {},
   "outputs": [
    {
     "data": {
      "text/html": [
       "<div>\n",
       "<style scoped>\n",
       "    .dataframe tbody tr th:only-of-type {\n",
       "        vertical-align: middle;\n",
       "    }\n",
       "\n",
       "    .dataframe tbody tr th {\n",
       "        vertical-align: top;\n",
       "    }\n",
       "\n",
       "    .dataframe thead th {\n",
       "        text-align: right;\n",
       "    }\n",
       "</style>\n",
       "<table border=\"1\" class=\"dataframe\">\n",
       "  <thead>\n",
       "    <tr style=\"text-align: right;\">\n",
       "      <th></th>\n",
       "      <th>Quantity Ordered</th>\n",
       "      <th>Price Each</th>\n",
       "      <th>Order Year</th>\n",
       "      <th>Order Month</th>\n",
       "      <th>Order Day</th>\n",
       "      <th>Order Hour</th>\n",
       "      <th>Order Quarter</th>\n",
       "      <th>Order Week</th>\n",
       "      <th>Order Weekday</th>\n",
       "      <th>Total Price</th>\n",
       "    </tr>\n",
       "  </thead>\n",
       "  <tbody>\n",
       "    <tr>\n",
       "      <th>count</th>\n",
       "      <td>367210.000000</td>\n",
       "      <td>367210.000000</td>\n",
       "      <td>367210.000000</td>\n",
       "      <td>367210.000000</td>\n",
       "      <td>367210.000000</td>\n",
       "      <td>367210.000000</td>\n",
       "      <td>367210.000000</td>\n",
       "      <td>367210.000000</td>\n",
       "      <td>367210.000000</td>\n",
       "      <td>367210.000000</td>\n",
       "    </tr>\n",
       "    <tr>\n",
       "      <th>mean</th>\n",
       "      <td>1.126443</td>\n",
       "      <td>185.453902</td>\n",
       "      <td>2020.469388</td>\n",
       "      <td>7.418099</td>\n",
       "      <td>15.755987</td>\n",
       "      <td>14.407933</td>\n",
       "      <td>2.793377</td>\n",
       "      <td>30.626249</td>\n",
       "      <td>2.993464</td>\n",
       "      <td>186.570118</td>\n",
       "    </tr>\n",
       "    <tr>\n",
       "      <th>std</th>\n",
       "      <td>0.446514</td>\n",
       "      <td>334.779398</td>\n",
       "      <td>0.499281</td>\n",
       "      <td>3.511378</td>\n",
       "      <td>8.808164</td>\n",
       "      <td>5.418503</td>\n",
       "      <td>1.107449</td>\n",
       "      <td>15.330815</td>\n",
       "      <td>1.989919</td>\n",
       "      <td>334.950859</td>\n",
       "    </tr>\n",
       "    <tr>\n",
       "      <th>min</th>\n",
       "      <td>1.000000</td>\n",
       "      <td>2.990000</td>\n",
       "      <td>2020.000000</td>\n",
       "      <td>1.000000</td>\n",
       "      <td>1.000000</td>\n",
       "      <td>0.000000</td>\n",
       "      <td>1.000000</td>\n",
       "      <td>1.000000</td>\n",
       "      <td>0.000000</td>\n",
       "      <td>2.990000</td>\n",
       "    </tr>\n",
       "    <tr>\n",
       "      <th>25%</th>\n",
       "      <td>1.000000</td>\n",
       "      <td>11.950000</td>\n",
       "      <td>2020.000000</td>\n",
       "      <td>5.000000</td>\n",
       "      <td>8.000000</td>\n",
       "      <td>11.000000</td>\n",
       "      <td>2.000000</td>\n",
       "      <td>18.000000</td>\n",
       "      <td>1.000000</td>\n",
       "      <td>11.950000</td>\n",
       "    </tr>\n",
       "    <tr>\n",
       "      <th>50%</th>\n",
       "      <td>1.000000</td>\n",
       "      <td>14.950000</td>\n",
       "      <td>2020.000000</td>\n",
       "      <td>8.000000</td>\n",
       "      <td>16.000000</td>\n",
       "      <td>15.000000</td>\n",
       "      <td>3.000000</td>\n",
       "      <td>33.000000</td>\n",
       "      <td>3.000000</td>\n",
       "      <td>14.950000</td>\n",
       "    </tr>\n",
       "    <tr>\n",
       "      <th>75%</th>\n",
       "      <td>1.000000</td>\n",
       "      <td>150.000000</td>\n",
       "      <td>2021.000000</td>\n",
       "      <td>11.000000</td>\n",
       "      <td>23.000000</td>\n",
       "      <td>19.000000</td>\n",
       "      <td>4.000000</td>\n",
       "      <td>44.000000</td>\n",
       "      <td>5.000000</td>\n",
       "      <td>150.000000</td>\n",
       "    </tr>\n",
       "    <tr>\n",
       "      <th>max</th>\n",
       "      <td>9.000000</td>\n",
       "      <td>1700.000000</td>\n",
       "      <td>2022.000000</td>\n",
       "      <td>12.000000</td>\n",
       "      <td>31.000000</td>\n",
       "      <td>23.000000</td>\n",
       "      <td>4.000000</td>\n",
       "      <td>53.000000</td>\n",
       "      <td>6.000000</td>\n",
       "      <td>3400.000000</td>\n",
       "    </tr>\n",
       "  </tbody>\n",
       "</table>\n",
       "</div>"
      ],
      "text/plain": [
       "       Quantity Ordered     Price Each     Order Year    Order Month  \\\n",
       "count     367210.000000  367210.000000  367210.000000  367210.000000   \n",
       "mean           1.126443     185.453902    2020.469388       7.418099   \n",
       "std            0.446514     334.779398       0.499281       3.511378   \n",
       "min            1.000000       2.990000    2020.000000       1.000000   \n",
       "25%            1.000000      11.950000    2020.000000       5.000000   \n",
       "50%            1.000000      14.950000    2020.000000       8.000000   \n",
       "75%            1.000000     150.000000    2021.000000      11.000000   \n",
       "max            9.000000    1700.000000    2022.000000      12.000000   \n",
       "\n",
       "           Order Day     Order Hour  Order Quarter     Order Week  \\\n",
       "count  367210.000000  367210.000000  367210.000000  367210.000000   \n",
       "mean       15.755987      14.407933       2.793377      30.626249   \n",
       "std         8.808164       5.418503       1.107449      15.330815   \n",
       "min         1.000000       0.000000       1.000000       1.000000   \n",
       "25%         8.000000      11.000000       2.000000      18.000000   \n",
       "50%        16.000000      15.000000       3.000000      33.000000   \n",
       "75%        23.000000      19.000000       4.000000      44.000000   \n",
       "max        31.000000      23.000000       4.000000      53.000000   \n",
       "\n",
       "       Order Weekday    Total Price  \n",
       "count  367210.000000  367210.000000  \n",
       "mean        2.993464     186.570118  \n",
       "std         1.989919     334.950859  \n",
       "min         0.000000       2.990000  \n",
       "25%         1.000000      11.950000  \n",
       "50%         3.000000      14.950000  \n",
       "75%         5.000000     150.000000  \n",
       "max         6.000000    3400.000000  "
      ]
     },
     "execution_count": 62,
     "metadata": {},
     "output_type": "execute_result"
    }
   ],
   "source": [
    "# print the description of the data after adding more features\n",
    "df.describe()"
   ]
  },
  {
   "cell_type": "markdown",
   "id": "0dc24b13",
   "metadata": {
    "tags": []
   },
   "source": [
    "# Insights"
   ]
  },
  {
   "cell_type": "markdown",
   "id": "b899a7f5",
   "metadata": {},
   "source": [
    "## Insights related to year"
   ]
  },
  {
   "cell_type": "markdown",
   "id": "78208d9d",
   "metadata": {},
   "source": [
    "<!-- best year they sells -->"
   ]
  },
  {
   "cell_type": "code",
   "execution_count": 63,
   "id": "3fb6608c",
   "metadata": {},
   "outputs": [
    {
     "data": {
      "text/plain": [
       "Text(0, 0.5, 'Total Price')"
      ]
     },
     "execution_count": 63,
     "metadata": {},
     "output_type": "execute_result"
    },
    {
     "data": {
      "image/png": "[encoded data removed]",
      "text/plain": [
       "<Figure size 864x432 with 1 Axes>"
      ]
     },
     "metadata": {
      "needs_background": "light"
     },
     "output_type": "display_data"
    }
   ],
   "source": [
    "# the best year for sales \n",
    "best_year = df.groupby(\"Order Year\").sum(\"Total Price\")\n",
    "fig, ax = plt.subplots(figsize = (12,6))\n",
    "sns.barplot(x = best_year.index, y = best_year['Total Price'], data = best_year,ax=ax)\n",
    "plt.title('distrubution of Total Sales in all years')\n",
    "plt.xlabel('Year', weight = 'bold')\n",
    "plt.ylabel('Total Price', weight = 'bold')"
   ]
  },
  {
   "cell_type": "code",
   "execution_count": 64,
   "id": "4e7bf2e0",
   "metadata": {},
   "outputs": [
    {
     "data": {
      "image/png": "[encoded data removed]",
      "text/plain": [
       "<Figure size 1296x432 with 1 Axes>"
      ]
     },
     "metadata": {
      "needs_background": "light"
     },
     "output_type": "display_data"
    }
   ],
   "source": [
    "# sales of all produts in all years\n",
    "fig, ax = plt.subplots(figsize = (18,6))\n",
    "sns.countplot(x = 'Product', data = df, ax = ax)\n",
    "plt.setp(ax.get_xticklabels(), rotation = 90, fontsize = 10)\n",
    "ax.xaxis.set_ticks_position('none')\n",
    "ax.set_title('Product Sales in all years')\n",
    "plt.show()"
   ]
  },
  {
   "cell_type": "code",
   "execution_count": 65,
   "id": "5d4e5003",
   "metadata": {},
   "outputs": [
    {
     "data": {
      "image/png": "[encoded data removed]",
      "text/plain": [
       "<Figure size 1296x432 with 1 Axes>"
      ]
     },
     "metadata": {
      "needs_background": "light"
     },
     "output_type": "display_data"
    }
   ],
   "source": [
    "# sales of all produts in all years\n",
    "fig, ax = plt.subplots(figsize = (18,6))\n",
    "data_20 = df[df[\"Order Year\"]==2020]\n",
    "sns.countplot(x = 'Product', data = data_20, ax = ax)\n",
    "plt.setp(ax.get_xticklabels(), rotation = 90, fontsize = 10)\n",
    "ax.set_title('Product Sales in 2020')\n",
    "plt.show()"
   ]
  },
  {
   "cell_type": "code",
   "execution_count": 66,
   "id": "e900d070",
   "metadata": {},
   "outputs": [
    {
     "data": {
      "image/png": "[encoded data removed]",
      "text/plain": [
       "<Figure size 1296x432 with 1 Axes>"
      ]
     },
     "metadata": {
      "needs_background": "light"
     },
     "output_type": "display_data"
    }
   ],
   "source": [
    "# sales of all produts in 2021\n",
    "data_21 = df[df[\"Order Year\"]==2021]\n",
    "fig, ax = plt.subplots(figsize = (18,6))\n",
    "sns.countplot(x = 'Product', data = data_21, ax = ax)\n",
    "plt.setp(ax.get_xticklabels(), rotation = 90, fontsize = 10)\n",
    "ax.set_title('Product Sales in 2021')\n",
    "plt.show()"
   ]
  },
  {
   "cell_type": "code",
   "execution_count": 67,
   "id": "8d9a8f4e",
   "metadata": {},
   "outputs": [
    {
     "data": {
      "image/png": "[encoded data removed]",
      "text/plain": [
       "<Figure size 1296x432 with 1 Axes>"
      ]
     },
     "metadata": {
      "needs_background": "light"
     },
     "output_type": "display_data"
    }
   ],
   "source": [
    "# sales of all produts in 2022\n",
    "data_22 = df[df[\"Order Year\"]==2022]\n",
    "fig, ax = plt.subplots(figsize = (18,6))\n",
    "sns.countplot(x = 'Product', data = data_22, ax = ax)\n",
    "plt.setp(ax.get_xticklabels(), rotation = 90, fontsize = 10)\n",
    "ax.set_title('Product Sales in 2022')\n",
    "plt.show()"
   ]
  },
  {
   "cell_type": "markdown",
   "id": "e7a5df62",
   "metadata": {},
   "source": [
    "## Insights related to Month"
   ]
  },
  {
   "cell_type": "code",
   "execution_count": 68,
   "id": "b6b9cf51",
   "metadata": {
    "tags": []
   },
   "outputs": [
    {
     "data": {
      "text/plain": [
       "Text(0, 0.5, 'Total Price')"
      ]
     },
     "execution_count": 68,
     "metadata": {},
     "output_type": "execute_result"
    },
    {
     "data": {
      "image/png": "[encoded data removed]",
      "text/plain": [
       "<Figure size 1296x432 with 1 Axes>"
      ]
     },
     "metadata": {
      "needs_background": "light"
     },
     "output_type": "display_data"
    }
   ],
   "source": [
    "# The Monthly sales across all years\n",
    "plt.figure(figsize = (18,6))\n",
    "monthly_sales = df.groupby(['Order Month']).sum()\n",
    "sns.barplot(x = monthly_sales.index, y = monthly_sales['Total Price'], data = monthly_sales)\n",
    "plt.title('Monthly Sales in all years')\n",
    "plt.xlabel('Months')\n",
    "plt.ylabel('Total Price')"
   ]
  },
  {
   "cell_type": "code",
   "execution_count": 69,
   "id": "1e294172",
   "metadata": {},
   "outputs": [
    {
     "data": {
      "text/plain": [
       "Text(0, 0.5, 'Total Price')"
      ]
     },
     "execution_count": 69,
     "metadata": {},
     "output_type": "execute_result"
    },
    {
     "data": {
      "image/png": "[encoded data removed]",
      "text/plain": [
       "<Figure size 1296x432 with 1 Axes>"
      ]
     },
     "metadata": {
      "needs_background": "light"
     },
     "output_type": "display_data"
    }
   ],
   "source": [
    "# The Monthly sales across 2020\n",
    "plt.figure(figsize = (18,6))\n",
    "monthly_sales_20 = data_20.groupby(['Order Month']).sum()\n",
    "sns.barplot(x = monthly_sales_20.index, y = monthly_sales_20['Total Price'], data = monthly_sales_20)\n",
    "plt.title('Monthly Sales in 2020')\n",
    "plt.xlabel('Months')\n",
    "plt.ylabel('Total Price')"
   ]
  },
  {
   "cell_type": "code",
   "execution_count": null,
   "id": "32201b5b-0ce8-4ffe-9823-8d3c52fb2b57",
   "metadata": {},
   "outputs": [],
   "source": []
  },
  {
   "cell_type": "markdown",
   "id": "b7e52310",
   "metadata": {},
   "source": [
    "## Insights that related to the states"
   ]
  },
  {
   "cell_type": "code",
   "execution_count": 70,
   "id": "985f38c8",
   "metadata": {},
   "outputs": [
    {
     "data": {
      "text/plain": [
       "Text(0, 0.5, 'Total Sales')"
      ]
     },
     "execution_count": 70,
     "metadata": {},
     "output_type": "execute_result"
    },
    {
     "data": {
      "image/png": "[encoded data removed]",
      "text/plain": [
       "<Figure size 1296x432 with 1 Axes>"
      ]
     },
     "metadata": {
      "needs_background": "light"
     },
     "output_type": "display_data"
    }
   ],
   "source": [
    "# distruction of the prodcut sales based on the states\n",
    "plt.figure(figsize = (18, 6))\n",
    "city_sales = df.groupby(['State']).sum()\n",
    "sns.barplot(x = city_sales.index, y = city_sales['Total Price'], data = city_sales, palette = 'muted')\n",
    "plt.title('Sales in each cities', fontname = 'cursive', weight = 'bold')\n",
    "plt.xlabel('State', weight = 'bold')\n",
    "plt.ylabel('Total Sales', weight = 'bold')"
   ]
  },
  {
   "cell_type": "code",
   "execution_count": null,
   "id": "92aa47d0",
   "metadata": {},
   "outputs": [],
   "source": []
  },
  {
   "cell_type": "markdown",
   "id": "9935cc22",
   "metadata": {},
   "source": [
    "## Insights related to the Product\n"
   ]
  },
  {
   "cell_type": "code",
   "execution_count": 71,
   "id": "3663c5c9",
   "metadata": {},
   "outputs": [
    {
     "data": {
      "text/plain": [
       "Text(0, 0.5, 'Quantity Ordered')"
      ]
     },
     "execution_count": 71,
     "metadata": {},
     "output_type": "execute_result"
    },
    {
     "data": {
      "image/png": "[encoded data removed]",
      "text/plain": [
       "<Figure size 1296x432 with 1 Axes>"
      ]
     },
     "metadata": {
      "needs_background": "light"
     },
     "output_type": "display_data"
    }
   ],
   "source": [
    "# the product that sold the most\n",
    "\n",
    "plt.figure(figsize = (18, 6))\n",
    "products =  df.groupby('Product').sum('Quantity Ordered').sort_values(by='Quantity Ordered', ascending=False)\n",
    "sns.barplot(x = products.index, y = products['Quantity Ordered'], data = products, palette = 'muted')\n",
    "plt.title('Products sold in numbers', weight = 'bold')\n",
    "plt.xlabel('Product', weight = 'bold')\n",
    "plt.xticks(rotation = 90)\n",
    "plt.ylabel('Quantity Ordered', weight = 'bold')"
   ]
  },
  {
   "cell_type": "code",
   "execution_count": 74,
   "id": "ca42a055",
   "metadata": {},
   "outputs": [
    {
     "data": {
      "text/html": [
       "<div>\n",
       "<style scoped>\n",
       "    .dataframe tbody tr th:only-of-type {\n",
       "        vertical-align: middle;\n",
       "    }\n",
       "\n",
       "    .dataframe tbody tr th {\n",
       "        vertical-align: top;\n",
       "    }\n",
       "\n",
       "    .dataframe thead th {\n",
       "        text-align: right;\n",
       "    }\n",
       "</style>\n",
       "<table border=\"1\" class=\"dataframe\">\n",
       "  <thead>\n",
       "    <tr style=\"text-align: right;\">\n",
       "      <th></th>\n",
       "      <th>Order ID</th>\n",
       "      <th>Grouped</th>\n",
       "    </tr>\n",
       "  </thead>\n",
       "  <tbody>\n",
       "    <tr>\n",
       "      <th>0</th>\n",
       "      <td>171654</td>\n",
       "      <td>USB-C Charging Cable &amp; 20in Monitor</td>\n",
       "    </tr>\n",
       "    <tr>\n",
       "      <th>1</th>\n",
       "      <td>171655</td>\n",
       "      <td>Wired Headphones &amp; Apple Airpods Headphones</td>\n",
       "    </tr>\n",
       "    <tr>\n",
       "      <th>2</th>\n",
       "      <td>171656</td>\n",
       "      <td>Bose SoundSport Headphones &amp; AA Batteries (4-p...</td>\n",
       "    </tr>\n",
       "    <tr>\n",
       "      <th>3</th>\n",
       "      <td>171657</td>\n",
       "      <td>Wired Headphones &amp; Lightning Charging Cable</td>\n",
       "    </tr>\n",
       "    <tr>\n",
       "      <th>4</th>\n",
       "      <td>171658</td>\n",
       "      <td>AAA Batteries (4-pack) &amp; AA Batteries (4-pack)</td>\n",
       "    </tr>\n",
       "    <tr>\n",
       "      <th>5</th>\n",
       "      <td>171659</td>\n",
       "      <td>Bose SoundSport Headphones &amp; Bose SoundSport H...</td>\n",
       "    </tr>\n",
       "    <tr>\n",
       "      <th>6</th>\n",
       "      <td>171660</td>\n",
       "      <td>Wired Headphones &amp; AA Batteries (4-pack)</td>\n",
       "    </tr>\n",
       "    <tr>\n",
       "      <th>7</th>\n",
       "      <td>171661</td>\n",
       "      <td>20in Monitor &amp; AA Batteries (4-pack)</td>\n",
       "    </tr>\n",
       "    <tr>\n",
       "      <th>8</th>\n",
       "      <td>171662</td>\n",
       "      <td>iPhone &amp; Apple Airpods Headphones</td>\n",
       "    </tr>\n",
       "    <tr>\n",
       "      <th>9</th>\n",
       "      <td>171663</td>\n",
       "      <td>AAA Batteries (4-pack) &amp; AA Batteries (4-pack)</td>\n",
       "    </tr>\n",
       "  </tbody>\n",
       "</table>\n",
       "</div>"
      ],
      "text/plain": [
       "  Order ID                                            Grouped\n",
       "0   171654                USB-C Charging Cable & 20in Monitor\n",
       "1   171655        Wired Headphones & Apple Airpods Headphones\n",
       "2   171656  Bose SoundSport Headphones & AA Batteries (4-p...\n",
       "3   171657        Wired Headphones & Lightning Charging Cable\n",
       "4   171658     AAA Batteries (4-pack) & AA Batteries (4-pack)\n",
       "5   171659  Bose SoundSport Headphones & Bose SoundSport H...\n",
       "6   171660           Wired Headphones & AA Batteries (4-pack)\n",
       "7   171661               20in Monitor & AA Batteries (4-pack)\n",
       "8   171662                  iPhone & Apple Airpods Headphones\n",
       "9   171663     AAA Batteries (4-pack) & AA Batteries (4-pack)"
      ]
     },
     "execution_count": 74,
     "metadata": {},
     "output_type": "execute_result"
    }
   ],
   "source": [
    "# that products that have a high probablity to sold together\n",
    "df_together = df.loc[df['Order ID'].duplicated(keep=False)].reset_index()\n",
    "df_together['Grouped'] = df_together.groupby(['Order ID'])['Product'].transform(lambda x: ' & '.join(x))\n",
    "df_together = df_together[['Order ID', 'Grouped']].drop_duplicates()\n",
    "df_together.head(10)"
   ]
  },
  {
   "cell_type": "code",
   "execution_count": null,
   "id": "128e47ff",
   "metadata": {},
   "outputs": [],
   "source": [
    "# sales of all product throught all months\n",
    "fig, ax = plt.subplots()\n",
    "fig.set_size_inches(11,8)\n",
    "sns.lineplot(data = df, x='Order Month',y='Quantity Ordered', hue='Product',ax=ax)"
   ]
  },
  {
   "cell_type": "code",
   "execution_count": 73,
   "id": "bb863f0a",
   "metadata": {},
   "outputs": [
    {
     "data": {
      "text/plain": [
       "<AxesSubplot:xlabel='Order Hour', ylabel='Total Price'>"
      ]
     },
     "execution_count": 73,
     "metadata": {},
     "output_type": "execute_result"
    },
    {
     "data": {
      "image/png": "[encoded data removed]",
      "text/plain": [
       "<Figure size 720x432 with 1 Axes>"
      ]
     },
     "metadata": {
      "needs_background": "light"
     },
     "output_type": "display_data"
    }
   ],
   "source": [
    "# best time to sell products or recommend products to customers \n",
    "plt.figure(figsize = (10, 6))\n",
    "best_time = df.groupby(['Order Hour']).sum().sort_values(['Order Hour'],ascending=True)['Total Price']\n",
    "sns.lineplot(data= best_time, x=best_time.index , y=best_time)"
   ]
  },
  {
   "cell_type": "markdown",
   "id": "e6caf454-8522-4e11-a1c9-b98d889851ab",
   "metadata": {},
   "source": [
    "# Next Steps"
   ]
  },
  {
   "cell_type": "code",
   "execution_count": null,
   "id": "afca8e49-7000-4d80-8d53-d5149c40e9d4",
   "metadata": {},
   "outputs": [],
   "source": [
    "# the final data is prepocessed and go throught features engineering phase \n",
    "# we can use it directly to build a machine learning models\n",
    "# first thing we need to split the data to test and train \n",
    "# then we train the model on the training data \n",
    "# after that we test the modelon the testing data\n",
    "\n",
    "# we can use apply time-series forcasting to predcit the number of the prodcut that we will sell in the next hours,days, month or the mount of money that we expext in the next time"
   ]
  }
 ],
 "metadata": {
  "kernelspec": {
   "display_name": "Python 3 (ipykernel)",
   "language": "python",
   "name": "python3"
  },
  "language_info": {
   "codemirror_mode": {
    "name": "ipython",
    "version": 3
   },
   "file_extension": ".py",
   "mimetype": "text/x-python",
   "name": "python",
   "nbconvert_exporter": "python",
   "pygments_lexer": "ipython3",
   "version": "3.9.7"
  }
 },
 "nbformat": 4,
 "nbformat_minor": 5
}
